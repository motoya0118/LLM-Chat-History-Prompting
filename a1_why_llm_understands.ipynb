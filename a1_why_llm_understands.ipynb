{
 "cells": [
  {
   "cell_type": "markdown",
   "metadata": {},
   "source": [
    "# なぜLLMは会話を理解できるのか？ 🤔\n",
    "\n",
    "ChatGPTとか使ってると、普通に会話できるっぽく感じるよね。\n",
    "でも、これってリアルタイムで学習してるの？ (こわっ😨)\n",
    "それとも、超高度な魔法みたいなアルゴリズム？🧙‍♂️\n",
    "\n",
    "実は、そんなことはないんだよね。\n",
    "シンプルな工夫をするだけで、会話っぽく見せることができるんだ。\n",
    "今回は、それがどういう仕組みになってるのか見ていこう！🚀"
   ]
  },
  {
   "cell_type": "markdown",
   "metadata": {},
   "source": [
    "## 1. 会話履歴を使わない場合\n",
    "会話履歴なしだと、毎回新しい入力として処理されるため、前の発言とのつながりがなくなる！"
   ]
  },
  {
   "cell_type": "code",
   "execution_count": null,
   "metadata": {
    "scrolled": true
   },
   "outputs": [],
   "source": [
    "from openai import OpenAI\n",
    "import gradio as gr\n",
    "import os\n",
    "from dotenv import load_dotenv\n",
    "import sys\n",
    "\n",
    "load_dotenv()\n",
    "OPENAI_API_KEY = os.getenv(\"OPENAI_API_KEY\")\n",
    "client = OpenAI()\n",
    "\n",
    "def chat_no_history(user_input, history):\n",
    "    messages = [{\"role\": \"user\", \"content\": user_input}]\n",
    "    print(messages)\n",
    "    response = client.chat.completions.create(\n",
    "        model=\"gpt-4o-mini\",\n",
    "        messages=messages\n",
    "    )\n",
    "    return response.choices[0].message.content\n",
    "\n",
    "gr.ChatInterface(fn=chat_no_history, type=\"messages\", title=\"履歴なしのチャット\").launch(debug=True)\n"
   ]
  },
  {
   "cell_type": "markdown",
   "metadata": {},
   "source": [
    "## 2. 会話履歴を使う場合\n",
    "会話履歴を追加することで、流れを理解できるようになる！"
   ]
  },
  {
   "cell_type": "code",
   "execution_count": null,
   "metadata": {},
   "outputs": [],
   "source": [
    "from openai import OpenAI\n",
    "import gradio as gr\n",
    "import os\n",
    "from dotenv import load_dotenv\n",
    "import sys\n",
    "\n",
    "load_dotenv()\n",
    "OPENAI_API_KEY = os.getenv(\"OPENAI_API_KEY\")\n",
    "client = OpenAI()\n",
    "\n",
    "def chat_with_history(user_input, history):\n",
    "    messages = history + [{\"role\": \"user\", \"content\": user_input}]\n",
    "    print(messages)\n",
    "    response = client.chat.completions.create(\n",
    "        model=\"gpt-4o-mini\",\n",
    "        messages=messages\n",
    "    )\n",
    "    return response.choices[0].message.content\n",
    "\n",
    "gr.ChatInterface(fn=chat_with_history, type=\"messages\", title=\"履歴ありのチャット\").launch(debug=True)\n"
   ]
  },
  {
   "cell_type": "markdown",
   "metadata": {},
   "source": [
    "## 3. まとめ 📌\n",
    "- 会話履歴なし → 毎回単発の応答になる (つながりがない)\n",
    "- 会話履歴あり → 過去の会話を参照できるから、文脈を理解してくれる！\n",
    "\n",
    "これを知っていると、チャットボット開発の理解が深まるね！🚀\n",
    "試しにいろんな履歴の長さを試してみると、どのくらい記憶してくれるか実験できるよ！"
   ]
  }
 ],
 "metadata": {
  "kernelspec": {
   "display_name": "Python (venv-llm-chat)\n\n",
   "language": "python",
   "name": "venv-llm-chat"
  },
  "language_info": {
   "codemirror_mode": {
    "name": "ipython",
    "version": 3
   },
   "file_extension": ".py",
   "mimetype": "text/x-python",
   "name": "python",
   "nbconvert_exporter": "python",
   "pygments_lexer": "ipython3",
   "version": "3.10.4"
  }
 },
 "nbformat": 4,
 "nbformat_minor": 4
}
